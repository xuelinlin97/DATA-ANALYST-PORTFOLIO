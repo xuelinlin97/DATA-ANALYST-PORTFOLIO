{
 "cells": [
  {
   "cell_type": "markdown",
   "metadata": {},
   "source": [
    "# ITOM 6253 Assignment 3 v4 Template"
   ]
  },
  {
   "cell_type": "markdown",
   "metadata": {},
   "source": [
    "    ## Xuelin Lin"
   ]
  },
  {
   "cell_type": "markdown",
   "metadata": {},
   "source": [
    "## Assignment #3"
   ]
  },
  {
   "cell_type": "markdown",
   "metadata": {},
   "source": [
    "#### **Q1**\n",
    "\n",
    "You have a rich uncle who has peacefully passed away in his sleep. In his will you have been named to receive USD100,000. Assuming you have good lawyers and accountants, you are able to legally avoid all taxes associated with this windfall and the funds are immediately deposited to an investment account in the Bahamas that earns 1.0% interest that is compounded every month. Write a Python program using a while loop that will calculate how many months will be needed for the balance of the account to reach $1,500,000.\n",
    "\n",
    "The goal is to retire and just live on the interest for the rest of your life. Output a table showing the balance in each month until you reach your goal. Be sure to label the columns clearly and format the balance in each row as $xxx,xxx.xx"
   ]
  },
  {
   "cell_type": "markdown",
   "metadata": {},
   "source": [
    "### interest_rate = 0.01\n",
    "total_balance = 1500000\n",
    "balance = 100000\n",
    "month = 0\n",
    "#while loop\n",
    "while total_balance > balance:\n",
    "    balance += balance * interest_rate\n",
    "    month +=1\n",
    "    print(f\"Month:{month}  Balance: ${balance:,.2f}\")\n",
    "print(balance)\n",
    "#In 273 months will reach $1,500,000 "
   ]
  },
  {
   "cell_type": "markdown",
   "metadata": {},
   "source": [
    "**Q2**\n",
    "\n",
    "Write a Python program to replace 'e' with '3' and 'o' with '0' in a string."
   ]
  },
  {
   "cell_type": "code",
   "execution_count": 14,
   "metadata": {},
   "outputs": [
    {
     "name": "stdout",
     "output_type": "stream",
     "text": [
      "33340003ppp\n"
     ]
    }
   ],
   "source": [
    "#replace e with 3 and o with 0 \n",
    "strvar1 = 'eee4oooeppp'\n",
    "strvar1 = strvar1.replace('e','3')\n",
    "strvar1 = strvar1.replace('o','0')\n",
    "print(strvar1)\n"
   ]
  },
  {
   "cell_type": "markdown",
   "metadata": {},
   "source": [
    "**Q3**\n",
    "\n",
    "Using Data Geographies - v1 - by Gapminder.xlsx, create a dictionary that maps geo as a key to four_regions."
   ]
  },
  {
   "cell_type": "code",
   "execution_count": 40,
   "metadata": {},
   "outputs": [
    {
     "name": "stdout",
     "output_type": "stream",
     "text": [
      "    geo                    name four_regions       eight_regions  \\\n",
      "0   afg             Afghanistan         asia           asia_west   \n",
      "1   alb                 Albania       europe         europe_east   \n",
      "2   dza                 Algeria       africa        africa_north   \n",
      "3   and                 Andorra       europe         europe_west   \n",
      "4   ago                  Angola       africa  africa_sub_saharan   \n",
      "5   atg     Antigua and Barbuda     americas       america_north   \n",
      "6   arg               Argentina     americas       america_south   \n",
      "7   arm                 Armenia       europe         europe_east   \n",
      "8   aus               Australia         asia   east_asia_pacific   \n",
      "9   aut                 Austria       europe         europe_west   \n",
      "10  aze              Azerbaijan       europe         europe_east   \n",
      "11  bhs                 Bahamas     americas       america_north   \n",
      "12  bhr                 Bahrain         asia           asia_west   \n",
      "13  bgd              Bangladesh         asia           asia_west   \n",
      "14  brb                Barbados     americas       america_north   \n",
      "15  blr                 Belarus       europe         europe_east   \n",
      "16  bel                 Belgium       europe         europe_west   \n",
      "17  blz                  Belize     americas       america_north   \n",
      "18  ben                   Benin       africa  africa_sub_saharan   \n",
      "19  btn                  Bhutan         asia           asia_west   \n",
      "20  bol                 Bolivia     americas       america_south   \n",
      "21  bih  Bosnia and Herzegovina       europe         europe_east   \n",
      "22  bwa                Botswana       africa  africa_sub_saharan   \n",
      "23  bra                  Brazil     americas       america_south   \n",
      "24  brn                  Brunei         asia   east_asia_pacific   \n",
      "25  bgr                Bulgaria       europe         europe_east   \n",
      "26  bfa            Burkina Faso       africa  africa_sub_saharan   \n",
      "27  bdi                 Burundi       africa  africa_sub_saharan   \n",
      "28  khm                Cambodia         asia   east_asia_pacific   \n",
      "29  cmr                Cameroon       africa  africa_sub_saharan   \n",
      "\n",
      "                 six_regions members_oecd_g77  Latitude  Longitude  \\\n",
      "0                 south_asia              g77  33.00000   66.00000   \n",
      "1        europe_central_asia           others  41.00000   20.00000   \n",
      "2   middle_east_north_africa              g77  28.00000    3.00000   \n",
      "3        europe_central_asia           others  42.50779    1.52109   \n",
      "4         sub_saharan_africa              g77 -12.50000   18.50000   \n",
      "5                    america              g77  17.05000  -61.80000   \n",
      "6                    america              g77 -34.00000  -64.00000   \n",
      "7        europe_central_asia           others  40.25000   45.00000   \n",
      "8          east_asia_pacific             oecd -25.00000  135.00000   \n",
      "9        europe_central_asia             oecd  47.33333   13.33333   \n",
      "10       europe_central_asia           others  40.50000   47.50000   \n",
      "11                   america              g77  25.04082  -77.37122   \n",
      "12  middle_east_north_africa              g77  26.03333   50.55000   \n",
      "13                south_asia              g77  24.00000   90.00000   \n",
      "14                   america              g77  13.16667  -59.53333   \n",
      "15       europe_central_asia           others  53.00000   28.00000   \n",
      "16       europe_central_asia             oecd  50.75000    4.50000   \n",
      "17                   america              g77  17.49952  -88.19756   \n",
      "18        sub_saharan_africa              g77   9.50000    2.25000   \n",
      "19                south_asia              g77  27.50000   90.50000   \n",
      "20                   america              g77 -17.00000  -65.00000   \n",
      "21       europe_central_asia              g77  44.25000   17.83333   \n",
      "22        sub_saharan_africa              g77 -22.00000   24.00000   \n",
      "23                   america              g77 -10.00000  -55.00000   \n",
      "24         east_asia_pacific              g77   4.50000  114.66667   \n",
      "25       europe_central_asia           others  42.66667   25.25000   \n",
      "26        sub_saharan_africa              g77  12.50000   -1.66667   \n",
      "27        sub_saharan_africa              g77  -3.50000   30.00000   \n",
      "28         east_asia_pacific              g77  13.00000  105.00000   \n",
      "29        sub_saharan_africa              g77   6.00000   12.50000   \n",
      "\n",
      "   UN member since           World bank region World bank income group 2017  \n",
      "0       1946-11-19                  South Asia                   Low income  \n",
      "1       1955-12-14       Europe & Central Asia          Upper middle income  \n",
      "2       1962-10-08  Middle East & North Africa          Upper middle income  \n",
      "3       1993-07-28       Europe & Central Asia                  High income  \n",
      "4       1976-12-01          Sub-Saharan Africa          Lower middle income  \n",
      "5       1981-11-11   Latin America & Caribbean                  High income  \n",
      "6       1945-10-24   Latin America & Caribbean          Upper middle income  \n",
      "7       1992-03-02       Europe & Central Asia          Lower middle income  \n",
      "8       1945-11-01         East Asia & Pacific                  High income  \n",
      "9       1955-12-14       Europe & Central Asia                  High income  \n",
      "10      1992-03-02       Europe & Central Asia          Upper middle income  \n",
      "11      1973-08-18   Latin America & Caribbean                  High income  \n",
      "12      1971-09-21  Middle East & North Africa                  High income  \n",
      "13      1974-09-17                  South Asia          Lower middle income  \n",
      "14      1966-12-09   Latin America & Caribbean                  High income  \n",
      "15      1945-10-24       Europe & Central Asia          Upper middle income  \n",
      "16      1945-12-27       Europe & Central Asia                  High income  \n",
      "17      1981-09-25   Latin America & Caribbean          Upper middle income  \n",
      "18      1960-09-20          Sub-Saharan Africa                   Low income  \n",
      "19      1971-09-21                  South Asia          Lower middle income  \n",
      "20      1945-11-14   Latin America & Caribbean          Lower middle income  \n",
      "21      1992-05-22       Europe & Central Asia          Upper middle income  \n",
      "22      1966-10-17          Sub-Saharan Africa          Upper middle income  \n",
      "23      1945-10-24   Latin America & Caribbean          Upper middle income  \n",
      "24      1984-09-21         East Asia & Pacific                  High income  \n",
      "25      1955-12-14       Europe & Central Asia          Upper middle income  \n",
      "26      1960-09-20          Sub-Saharan Africa                   Low income  \n",
      "27      1962-09-18          Sub-Saharan Africa                   Low income  \n",
      "28      1955-12-14         East Asia & Pacific          Lower middle income  \n",
      "29      1960-09-20          Sub-Saharan Africa          Lower middle income  \n",
      "0    afg\n",
      "1    alb\n",
      "2    dza\n",
      "3    and\n",
      "4    ago\n",
      "Name: geo, dtype: object\n",
      "0      asia\n",
      "1    europe\n",
      "2    africa\n",
      "3    europe\n",
      "4    africa\n",
      "Name: four_regions, dtype: object\n",
      "0             Low income\n",
      "1    Upper middle income\n",
      "2    Upper middle income\n",
      "3            High income\n",
      "4    Lower middle income\n",
      "Name: World bank income group 2017, dtype: object\n"
     ]
    }
   ],
   "source": [
    "import pandas as pd\n",
    "#update\n",
    "file = pd.read_excel(r\"C:\\Users\\chent\\Desktop\\XUELIN\\SMU\\Model A\\ITOM 6253 Programming For Analytics\\Assignment\\Week3\\Data Geographiesr.xlsx\",\n",
    "                                 sheet_name = 'List of countries etc')\n",
    "\n",
    "print(file.head(30))\n",
    "file.shape\n",
    "\n",
    "geo = file.iloc[:, 0]\n",
    "four_regions = file.iloc[:, 2]\n",
    "income_group = file.iloc[:, 10]\n",
    "\n",
    "print(geo.head(5))\n",
    "print(four_regions.head(5))\n",
    "print(income_group.head(5))\n"
   ]
  },
  {
   "cell_type": "code",
   "execution_count": 42,
   "metadata": {},
   "outputs": [
    {
     "data": {
      "text/plain": [
       "{'afg': 'asia',\n",
       " 'alb': 'europe',\n",
       " 'dza': 'africa',\n",
       " 'and': 'europe',\n",
       " 'ago': 'africa',\n",
       " 'atg': 'americas',\n",
       " 'arg': 'americas',\n",
       " 'arm': 'europe',\n",
       " 'aus': 'asia',\n",
       " 'aut': 'europe',\n",
       " 'aze': 'europe',\n",
       " 'bhs': 'americas',\n",
       " 'bhr': 'asia',\n",
       " 'bgd': 'asia',\n",
       " 'brb': 'americas',\n",
       " 'blr': 'europe',\n",
       " 'bel': 'europe',\n",
       " 'blz': 'americas',\n",
       " 'ben': 'africa',\n",
       " 'btn': 'asia',\n",
       " 'bol': 'americas',\n",
       " 'bih': 'europe',\n",
       " 'bwa': 'africa',\n",
       " 'bra': 'americas',\n",
       " 'brn': 'asia',\n",
       " 'bgr': 'europe',\n",
       " 'bfa': 'africa',\n",
       " 'bdi': 'africa',\n",
       " 'khm': 'asia',\n",
       " 'cmr': 'africa',\n",
       " 'can': 'americas',\n",
       " 'cpv': 'africa',\n",
       " 'caf': 'africa',\n",
       " 'tcd': 'africa',\n",
       " 'chl': 'americas',\n",
       " 'chn': 'asia',\n",
       " 'col': 'americas',\n",
       " 'com': 'africa',\n",
       " 'cod': 'africa',\n",
       " 'cog': 'africa',\n",
       " 'cri': 'americas',\n",
       " 'civ': 'africa',\n",
       " 'hrv': 'europe',\n",
       " 'cub': 'americas',\n",
       " 'cyp': 'europe',\n",
       " 'cze': 'europe',\n",
       " 'dnk': 'europe',\n",
       " 'dji': 'africa',\n",
       " 'dma': 'americas',\n",
       " 'dom': 'americas',\n",
       " 'ecu': 'americas',\n",
       " 'egy': 'africa',\n",
       " 'slv': 'americas',\n",
       " 'gnq': 'africa',\n",
       " 'eri': 'africa',\n",
       " 'est': 'europe',\n",
       " 'eth': 'africa',\n",
       " 'fji': 'asia',\n",
       " 'fin': 'europe',\n",
       " 'fra': 'europe',\n",
       " 'gab': 'africa',\n",
       " 'gmb': 'africa',\n",
       " 'geo': 'europe',\n",
       " 'deu': 'europe',\n",
       " 'gha': 'africa',\n",
       " 'grc': 'europe',\n",
       " 'grd': 'americas',\n",
       " 'gtm': 'americas',\n",
       " 'gin': 'africa',\n",
       " 'gnb': 'africa',\n",
       " 'guy': 'americas',\n",
       " 'hti': 'americas',\n",
       " 'hos': 'europe',\n",
       " 'hnd': 'americas',\n",
       " 'hkg': 'asia',\n",
       " 'hun': 'europe',\n",
       " 'isl': 'europe',\n",
       " 'ind': 'asia',\n",
       " 'idn': 'asia',\n",
       " 'irn': 'asia',\n",
       " 'irq': 'asia',\n",
       " 'irl': 'europe',\n",
       " 'isr': 'asia',\n",
       " 'ita': 'europe',\n",
       " 'jam': 'americas',\n",
       " 'jpn': 'asia',\n",
       " 'jor': 'asia',\n",
       " 'kaz': 'asia',\n",
       " 'ken': 'africa',\n",
       " 'kir': 'asia',\n",
       " 'prk': 'asia',\n",
       " 'kor': 'asia',\n",
       " 'kwt': 'asia',\n",
       " 'kgz': 'asia',\n",
       " 'lao': 'asia',\n",
       " 'lva': 'europe',\n",
       " 'lbn': 'asia',\n",
       " 'lso': 'africa',\n",
       " 'lbr': 'africa',\n",
       " 'lby': 'africa',\n",
       " 'lie': 'europe',\n",
       " 'ltu': 'europe',\n",
       " 'lux': 'europe',\n",
       " 'mkd': 'europe',\n",
       " 'mdg': 'africa',\n",
       " 'mwi': 'africa',\n",
       " 'mys': 'asia',\n",
       " 'mdv': 'asia',\n",
       " 'mli': 'africa',\n",
       " 'mlt': 'europe',\n",
       " 'mhl': 'asia',\n",
       " 'mrt': 'africa',\n",
       " 'mus': 'africa',\n",
       " 'mex': 'americas',\n",
       " 'fsm': 'asia',\n",
       " 'mda': 'europe',\n",
       " 'mco': 'europe',\n",
       " 'mng': 'asia',\n",
       " 'mne': 'europe',\n",
       " 'mar': 'africa',\n",
       " 'moz': 'africa',\n",
       " 'mmr': 'asia',\n",
       " 'nam': 'africa',\n",
       " 'nru': 'asia',\n",
       " 'npl': 'asia',\n",
       " 'nld': 'europe',\n",
       " 'nzl': 'asia',\n",
       " 'nic': 'americas',\n",
       " 'ner': 'africa',\n",
       " 'nga': 'africa',\n",
       " 'nor': 'europe',\n",
       " 'omn': 'asia',\n",
       " 'pak': 'asia',\n",
       " 'plw': 'asia',\n",
       " 'pan': 'americas',\n",
       " 'png': 'asia',\n",
       " 'pry': 'americas',\n",
       " 'per': 'americas',\n",
       " 'phl': 'asia',\n",
       " 'pol': 'europe',\n",
       " 'prt': 'europe',\n",
       " 'qat': 'asia',\n",
       " 'rou': 'europe',\n",
       " 'rus': 'europe',\n",
       " 'rwa': 'africa',\n",
       " 'kna': 'americas',\n",
       " 'lca': 'americas',\n",
       " 'vct': 'americas',\n",
       " 'wsm': 'asia',\n",
       " 'smr': 'europe',\n",
       " 'stp': 'africa',\n",
       " 'sau': 'asia',\n",
       " 'sen': 'africa',\n",
       " 'srb': 'europe',\n",
       " 'syc': 'africa',\n",
       " 'sle': 'africa',\n",
       " 'sgp': 'asia',\n",
       " 'svk': 'europe',\n",
       " 'svn': 'europe',\n",
       " 'slb': 'asia',\n",
       " 'som': 'africa',\n",
       " 'zaf': 'africa',\n",
       " 'esp': 'europe',\n",
       " 'lka': 'asia',\n",
       " 'sdn': 'africa',\n",
       " 'sur': 'americas',\n",
       " 'swz': 'africa',\n",
       " 'swe': 'europe',\n",
       " 'che': 'europe',\n",
       " 'syr': 'asia',\n",
       " 'twn': 'asia',\n",
       " 'tjk': 'asia',\n",
       " 'tza': 'africa',\n",
       " 'tha': 'asia',\n",
       " 'tls': 'asia',\n",
       " 'tgo': 'africa',\n",
       " 'ton': 'asia',\n",
       " 'tto': 'americas',\n",
       " 'tun': 'africa',\n",
       " 'tur': 'europe',\n",
       " 'tkm': 'asia',\n",
       " 'tuv': 'asia',\n",
       " 'uga': 'africa',\n",
       " 'ukr': 'europe',\n",
       " 'are': 'asia',\n",
       " 'gbr': 'europe',\n",
       " 'usa': 'americas',\n",
       " 'ury': 'americas',\n",
       " 'uzb': 'asia',\n",
       " 'vut': 'asia',\n",
       " 'ven': 'americas',\n",
       " 'pse': 'asia',\n",
       " 'vnm': 'asia',\n",
       " 'yem': 'asia',\n",
       " 'zmb': 'africa',\n",
       " 'zwe': 'africa',\n",
       " 'ssd': 'africa'}"
      ]
     },
     "execution_count": 42,
     "metadata": {},
     "output_type": "execute_result"
    }
   ],
   "source": [
    "region_dict = dict(zip(geo,four_regions))\n",
    "region_dict"
   ]
  },
  {
   "cell_type": "markdown",
   "metadata": {},
   "source": [
    "**Q4**\n",
    "\n",
    "From your dictionary print a subset of all geos in americas."
   ]
  },
  {
   "cell_type": "markdown",
   "metadata": {},
   "source": [
    "The following **for** loop \n",
    "\n",
    "    for item in list:\n",
    "        if conditional:\n",
    "            expression\n",
    "            \n",
    "\n",
    "can be expressed in a syntax called \"list comprehension\":\n",
    "\n",
    "    [ expression for item in list if conditional ]\n",
    "\n",
    "The same syntax can be used for dictionaries where the *item* is a key,value pair:"
   ]
  },
  {
   "cell_type": "code",
   "execution_count": 43,
   "metadata": {},
   "outputs": [
    {
     "name": "stdout",
     "output_type": "stream",
     "text": [
      "['atg', 'arg', 'bhs', 'brb', 'blz', 'bol', 'bra', 'can', 'chl', 'col', 'cri', 'cub', 'dma', 'dom', 'ecu', 'slv', 'grd', 'gtm', 'guy', 'hti', 'hnd', 'jam', 'mex', 'nic', 'pan', 'pry', 'per', 'kna', 'lca', 'vct', 'sur', 'tto', 'usa', 'ury', 'ven']\n"
     ]
    }
   ],
   "source": [
    "americas_subset =[]\n",
    "for k, v in region_dict.items():\n",
    "    if v == 'americas':\n",
    "        americas_subset.extend([k])\n",
    "print(americas_subset)"
   ]
  },
  {
   "cell_type": "code",
   "execution_count": 44,
   "metadata": {},
   "outputs": [
    {
     "name": "stdout",
     "output_type": "stream",
     "text": [
      "['atg', 'arg', 'bhs', 'brb', 'blz', 'bol', 'bra', 'can', 'chl', 'col', 'cri', 'cub', 'dma', 'dom', 'ecu', 'slv', 'grd', 'gtm', 'guy', 'hti', 'hnd', 'jam', 'mex', 'nic', 'pan', 'pry', 'per', 'kna', 'lca', 'vct', 'sur', 'tto', 'usa', 'ury', 'ven']\n"
     ]
    }
   ],
   "source": [
    "americas_subset = [k for k, v in region_dict.items()if v =='americas']\n",
    "print(americas_subset)"
   ]
  },
  {
   "cell_type": "markdown",
   "metadata": {},
   "source": [
    "**Q5**\n",
    "\n",
    "Write a **for** loop that will print out a list of all the geos in americas that are in the High Income category according to the World Bank income group 2017. Also produce a list comprehension syntax to accomplish the same thing as the **for** loop."
   ]
  },
  {
   "cell_type": "code",
   "execution_count": 47,
   "metadata": {},
   "outputs": [
    {
     "name": "stdout",
     "output_type": "stream",
     "text": [
      "['and', 'atg', 'aus', 'aut', 'bhs', 'bhr', 'brb', 'bel', 'brn', 'can', 'chl', 'cyp', 'cze', 'dnk', 'est', 'fin', 'fra', 'deu', 'grc', 'hkg', 'hun', 'isl', 'irl', 'isr', 'ita', 'jpn', 'kor', 'kwt', 'lva', 'lie', 'ltu', 'lux', 'mlt', 'mco', 'nld', 'nzl', 'nor', 'omn', 'plw', 'pol', 'prt', 'qat', 'kna', 'smr', 'sau', 'syc', 'sgp', 'svk', 'svn', 'esp', 'swe', 'che', 'twn', 'tto', 'are', 'gbr', 'usa', 'ury']\n"
     ]
    }
   ],
   "source": [
    "region_dict2 = dict(zip(geo,income_group))\n",
    "HI = [k for k, v in region_dict2.items() if v =='High income']\n",
    "print(HI)"
   ]
  },
  {
   "cell_type": "code",
   "execution_count": 48,
   "metadata": {},
   "outputs": [
    {
     "name": "stdout",
     "output_type": "stream",
     "text": [
      "['atg', 'bhs', 'brb', 'can', 'chl', 'kna', 'tto', 'usa', 'ury']\n"
     ]
    }
   ],
   "source": [
    "americas_HI = []\n",
    "for i in americas_subset:\n",
    "    if i in HI:\n",
    "        americas_HI = americas_HI +[i]\n",
    "print(americas_HI)"
   ]
  },
  {
   "cell_type": "code",
   "execution_count": 50,
   "metadata": {},
   "outputs": [
    {
     "name": "stdout",
     "output_type": "stream",
     "text": [
      "['atg', 'bhs', 'brb', 'can', 'chl', 'kna', 'tto', 'usa', 'ury']\n"
     ]
    }
   ],
   "source": [
    "americas_HI = [k for k, v in region_dict2.items() if(v =='High income' and k in americas_subset)]\n",
    "print(americas_HI)"
   ]
  },
  {
   "cell_type": "code",
   "execution_count": null,
   "metadata": {},
   "outputs": [],
   "source": []
  }
 ],
 "metadata": {
  "kernelspec": {
   "display_name": "Python 3 (ipykernel)",
   "language": "python",
   "name": "python3"
  },
  "language_info": {
   "codemirror_mode": {
    "name": "ipython",
    "version": 3
   },
   "file_extension": ".py",
   "mimetype": "text/x-python",
   "name": "python",
   "nbconvert_exporter": "python",
   "pygments_lexer": "ipython3",
   "version": "3.11.4"
  }
 },
 "nbformat": 4,
 "nbformat_minor": 2
}
